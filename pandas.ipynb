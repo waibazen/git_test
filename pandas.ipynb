{
 "cells": [
  {
   "cell_type": "markdown",
   "id": "844f3772",
   "metadata": {},
   "source": [
    "## Pandas Dataframe & Data Manipulations"
   ]
  },
  {
   "cell_type": "code",
   "execution_count": 1,
   "id": "179b9747",
   "metadata": {},
   "outputs": [],
   "source": [
    "import numpy as np\n",
    "import pandas as pd\n",
    "import random\n",
    "import string\n"
   ]
  },
  {
   "cell_type": "code",
   "execution_count": 4,
   "id": "4637bc3d",
   "metadata": {},
   "outputs": [
    {
     "name": "stdout",
     "output_type": "stream",
     "text": [
      "{'id': ['5D510', 'FHN1M', '2OSBH', 'QWQ6Y', 'I00K1', '4B69A', 'UUWBM', '1TBK7', 'Q1ZW1', '8T4K5', 'VIZIU', 'REB40', 'CGONW', '0QSHX', 'OQPBD', 'W5PV5', 'RZL91', 'DMMP8', 'TI84S', 'DJW62', 'UCAQ7', 'LMPYG', 'M20Q9', 'J720P', 'ABYLR', 'BHJ7P', 'USK12', '119U3', '0JZN1', 'X9BI8'], 'roll': array([ 1,  2,  3,  4,  5,  6,  7,  8,  9, 10, 11, 12, 13, 14, 15, 16, 17,\n",
      "       18, 19, 20, 21, 22, 23, 24, 25, 26, 27, 28, 29, 30]), 'math_scores': array([49,  5, 64,  6, 42, 78, 97, 75, 35, 46, 75, 74, 38, 88, 51, 92, 91,\n",
      "       28, 60, 68,  4, 18, 65, 65, 50, 77, 98, 79, 64, 65]), 'physics_scores': array([61, 18, 53,  8, 72, 70, 81, 53,  7, 92, 90, 60,  7, 48, 11, 94, 91,\n",
      "       18,  7, 96, 52, 39, 17, 59, 23, 99,  0, 85, 18, 93]), 'chemistry_scores': array([27,  3, 33, 13, 69, 32,  1, 70, 78, 14, 39, 40, 51, 95, 75, 18, 63,\n",
      "       29, 73, 46, 30, 39, 42, 68, 99, 30, 13, 68,  6, 57])}\n"
     ]
    }
   ],
   "source": [
    "#Create a dictionary containing ....\n",
    "scores_dict = {\n",
    "    'id': [''.join(random.choices(\n",
    "        string.ascii_uppercase + string.digits, k=5)\n",
    "                 ) for _ in range(30)],\n",
    "    'roll': np.arange(30) + 1,\n",
    "    'math_scores': np.random.randint(100, size=(30)),\n",
    "    'physics_scores': np.random.randint(100, size=(30)),\n",
    "    'chemistry_scores': np.random.randint(100, size=(30))\n",
    "}\n",
    "\n",
    "print(scores_dict)\n"
   ]
  },
  {
   "cell_type": "code",
   "execution_count": 7,
   "id": "bfc1532c",
   "metadata": {},
   "outputs": [
    {
     "data": {
      "text/html": [
       "<div>\n",
       "<style scoped>\n",
       "    .dataframe tbody tr th:only-of-type {\n",
       "        vertical-align: middle;\n",
       "    }\n",
       "\n",
       "    .dataframe tbody tr th {\n",
       "        vertical-align: top;\n",
       "    }\n",
       "\n",
       "    .dataframe thead th {\n",
       "        text-align: right;\n",
       "    }\n",
       "</style>\n",
       "<table border=\"1\" class=\"dataframe\">\n",
       "  <thead>\n",
       "    <tr style=\"text-align: right;\">\n",
       "      <th></th>\n",
       "      <th>id</th>\n",
       "      <th>roll</th>\n",
       "      <th>math_scores</th>\n",
       "      <th>physics_scores</th>\n",
       "      <th>chemistry_scores</th>\n",
       "    </tr>\n",
       "  </thead>\n",
       "  <tbody>\n",
       "    <tr>\n",
       "      <th>0</th>\n",
       "      <td>5D510</td>\n",
       "      <td>1</td>\n",
       "      <td>49</td>\n",
       "      <td>61</td>\n",
       "      <td>27</td>\n",
       "    </tr>\n",
       "    <tr>\n",
       "      <th>1</th>\n",
       "      <td>FHN1M</td>\n",
       "      <td>2</td>\n",
       "      <td>5</td>\n",
       "      <td>18</td>\n",
       "      <td>3</td>\n",
       "    </tr>\n",
       "    <tr>\n",
       "      <th>2</th>\n",
       "      <td>2OSBH</td>\n",
       "      <td>3</td>\n",
       "      <td>64</td>\n",
       "      <td>53</td>\n",
       "      <td>33</td>\n",
       "    </tr>\n",
       "    <tr>\n",
       "      <th>3</th>\n",
       "      <td>QWQ6Y</td>\n",
       "      <td>4</td>\n",
       "      <td>6</td>\n",
       "      <td>8</td>\n",
       "      <td>13</td>\n",
       "    </tr>\n",
       "    <tr>\n",
       "      <th>4</th>\n",
       "      <td>I00K1</td>\n",
       "      <td>5</td>\n",
       "      <td>42</td>\n",
       "      <td>72</td>\n",
       "      <td>69</td>\n",
       "    </tr>\n",
       "  </tbody>\n",
       "</table>\n",
       "</div>"
      ],
      "text/plain": [
       "      id  roll  math_scores  physics_scores  chemistry_scores\n",
       "0  5D510     1           49              61                27\n",
       "1  FHN1M     2            5              18                 3\n",
       "2  2OSBH     3           64              53                33\n",
       "3  QWQ6Y     4            6               8                13\n",
       "4  I00K1     5           42              72                69"
      ]
     },
     "execution_count": 7,
     "metadata": {},
     "output_type": "execute_result"
    }
   ],
   "source": [
    "#creating Data frame\n",
    "df=pd.DataFrame(scores_dict)\n",
    "df.head()"
   ]
  },
  {
   "cell_type": "code",
   "execution_count": 49,
   "id": "bf6b5dba",
   "metadata": {},
   "outputs": [
    {
     "name": "stdout",
     "output_type": "stream",
     "text": [
      "<class 'pandas.core.frame.DataFrame'>\n",
      "Index: 30 entries, 5D510 to X9BI8\n",
      "Data columns (total 4 columns):\n",
      " #   Column            Non-Null Count  Dtype\n",
      "---  ------            --------------  -----\n",
      " 0   roll              30 non-null     int64\n",
      " 1   math_scores       30 non-null     int64\n",
      " 2   physics_scores    30 non-null     int64\n",
      " 3   chemistry_scores  30 non-null     int64\n",
      "dtypes: int64(4)\n",
      "memory usage: 1.2+ KB\n"
     ]
    }
   ],
   "source": [
    "df=df.set_index('id')###blahahah so need to assign to keep the changes !!\n",
    "df.info()"
   ]
  },
  {
   "cell_type": "code",
   "execution_count": 9,
   "id": "39a6f4ea",
   "metadata": {},
   "outputs": [
    {
     "data": {
      "text/plain": [
       "array([['5D510', 1, 49, 61, 27],\n",
       "       ['FHN1M', 2, 5, 18, 3],\n",
       "       ['2OSBH', 3, 64, 53, 33],\n",
       "       ['QWQ6Y', 4, 6, 8, 13],\n",
       "       ['I00K1', 5, 42, 72, 69],\n",
       "       ['4B69A', 6, 78, 70, 32],\n",
       "       ['UUWBM', 7, 97, 81, 1],\n",
       "       ['1TBK7', 8, 75, 53, 70],\n",
       "       ['Q1ZW1', 9, 35, 7, 78],\n",
       "       ['8T4K5', 10, 46, 92, 14],\n",
       "       ['VIZIU', 11, 75, 90, 39],\n",
       "       ['REB40', 12, 74, 60, 40],\n",
       "       ['CGONW', 13, 38, 7, 51],\n",
       "       ['0QSHX', 14, 88, 48, 95],\n",
       "       ['OQPBD', 15, 51, 11, 75],\n",
       "       ['W5PV5', 16, 92, 94, 18],\n",
       "       ['RZL91', 17, 91, 91, 63],\n",
       "       ['DMMP8', 18, 28, 18, 29],\n",
       "       ['TI84S', 19, 60, 7, 73],\n",
       "       ['DJW62', 20, 68, 96, 46],\n",
       "       ['UCAQ7', 21, 4, 52, 30],\n",
       "       ['LMPYG', 22, 18, 39, 39],\n",
       "       ['M20Q9', 23, 65, 17, 42],\n",
       "       ['J720P', 24, 65, 59, 68],\n",
       "       ['ABYLR', 25, 50, 23, 99],\n",
       "       ['BHJ7P', 26, 77, 99, 30],\n",
       "       ['USK12', 27, 98, 0, 13],\n",
       "       ['119U3', 28, 79, 85, 68],\n",
       "       ['0JZN1', 29, 64, 18, 6],\n",
       "       ['X9BI8', 30, 65, 93, 57]], dtype=object)"
      ]
     },
     "execution_count": 9,
     "metadata": {},
     "output_type": "execute_result"
    }
   ],
   "source": [
    "#convert to 2d arrays\n",
    "df.values\n"
   ]
  },
  {
   "cell_type": "markdown",
   "id": "e439f1ce",
   "metadata": {},
   "source": [
    "Indexes iloc,loc\n"
   ]
  },
  {
   "cell_type": "code",
   "execution_count": 11,
   "id": "2a9bbed0",
   "metadata": {},
   "outputs": [
    {
     "data": {
      "text/plain": [
       "id                  FHN1M\n",
       "roll                    2\n",
       "math_scores             5\n",
       "physics_scores         18\n",
       "chemistry_scores        3\n",
       "Name: 1, dtype: object"
      ]
     },
     "execution_count": 11,
     "metadata": {},
     "output_type": "execute_result"
    }
   ],
   "source": [
    "df.iloc[1]"
   ]
  },
  {
   "cell_type": "code",
   "execution_count": 19,
   "id": "756e7650",
   "metadata": {},
   "outputs": [
    {
     "data": {
      "text/html": [
       "<div>\n",
       "<style scoped>\n",
       "    .dataframe tbody tr th:only-of-type {\n",
       "        vertical-align: middle;\n",
       "    }\n",
       "\n",
       "    .dataframe tbody tr th {\n",
       "        vertical-align: top;\n",
       "    }\n",
       "\n",
       "    .dataframe thead th {\n",
       "        text-align: right;\n",
       "    }\n",
       "</style>\n",
       "<table border=\"1\" class=\"dataframe\">\n",
       "  <thead>\n",
       "    <tr style=\"text-align: right;\">\n",
       "      <th></th>\n",
       "      <th>physics_scores</th>\n",
       "      <th>chemistry_scores</th>\n",
       "    </tr>\n",
       "  </thead>\n",
       "  <tbody>\n",
       "    <tr>\n",
       "      <th>0</th>\n",
       "      <td>61</td>\n",
       "      <td>27</td>\n",
       "    </tr>\n",
       "    <tr>\n",
       "      <th>1</th>\n",
       "      <td>18</td>\n",
       "      <td>3</td>\n",
       "    </tr>\n",
       "    <tr>\n",
       "      <th>2</th>\n",
       "      <td>53</td>\n",
       "      <td>33</td>\n",
       "    </tr>\n",
       "    <tr>\n",
       "      <th>3</th>\n",
       "      <td>8</td>\n",
       "      <td>13</td>\n",
       "    </tr>\n",
       "    <tr>\n",
       "      <th>4</th>\n",
       "      <td>72</td>\n",
       "      <td>69</td>\n",
       "    </tr>\n",
       "  </tbody>\n",
       "</table>\n",
       "</div>"
      ],
      "text/plain": [
       "   physics_scores  chemistry_scores\n",
       "0              61                27\n",
       "1              18                 3\n",
       "2              53                33\n",
       "3               8                13\n",
       "4              72                69"
      ]
     },
     "execution_count": 19,
     "metadata": {},
     "output_type": "execute_result"
    }
   ],
   "source": [
    "df.iloc[:5,-2:]#first 5 rows and last 2 columns"
   ]
  },
  {
   "cell_type": "code",
   "execution_count": 22,
   "id": "f49e6bb3",
   "metadata": {},
   "outputs": [
    {
     "data": {
      "text/plain": [
       "61"
      ]
     },
     "execution_count": 22,
     "metadata": {},
     "output_type": "execute_result"
    }
   ],
   "source": [
    "df.loc[0,'physics_scores']"
   ]
  },
  {
   "cell_type": "code",
   "execution_count": 46,
   "id": "fbb6a16f",
   "metadata": {},
   "outputs": [
    {
     "data": {
      "text/plain": [
       "Series([], Name: physics_scores, dtype: int64)"
      ]
     },
     "execution_count": 46,
     "metadata": {},
     "output_type": "execute_result"
    }
   ],
   "source": [
    "df.loc['5D510':,'physics_scores']"
   ]
  },
  {
   "cell_type": "code",
   "execution_count": 27,
   "id": "a2ed1c53",
   "metadata": {},
   "outputs": [
    {
     "data": {
      "text/html": [
       "<div>\n",
       "<style scoped>\n",
       "    .dataframe tbody tr th:only-of-type {\n",
       "        vertical-align: middle;\n",
       "    }\n",
       "\n",
       "    .dataframe tbody tr th {\n",
       "        vertical-align: top;\n",
       "    }\n",
       "\n",
       "    .dataframe thead th {\n",
       "        text-align: right;\n",
       "    }\n",
       "</style>\n",
       "<table border=\"1\" class=\"dataframe\">\n",
       "  <thead>\n",
       "    <tr style=\"text-align: right;\">\n",
       "      <th></th>\n",
       "      <th>id</th>\n",
       "      <th>roll</th>\n",
       "      <th>math_scores</th>\n",
       "      <th>physics_scores</th>\n",
       "      <th>chemistry_scores</th>\n",
       "    </tr>\n",
       "  </thead>\n",
       "  <tbody>\n",
       "    <tr>\n",
       "      <th>0</th>\n",
       "      <td>5D510</td>\n",
       "      <td>1</td>\n",
       "      <td>49</td>\n",
       "      <td>61</td>\n",
       "      <td>27</td>\n",
       "    </tr>\n",
       "    <tr>\n",
       "      <th>1</th>\n",
       "      <td>FHN1M</td>\n",
       "      <td>2</td>\n",
       "      <td>5</td>\n",
       "      <td>18</td>\n",
       "      <td>3</td>\n",
       "    </tr>\n",
       "    <tr>\n",
       "      <th>2</th>\n",
       "      <td>2OSBH</td>\n",
       "      <td>3</td>\n",
       "      <td>64</td>\n",
       "      <td>53</td>\n",
       "      <td>33</td>\n",
       "    </tr>\n",
       "    <tr>\n",
       "      <th>3</th>\n",
       "      <td>QWQ6Y</td>\n",
       "      <td>4</td>\n",
       "      <td>6</td>\n",
       "      <td>8</td>\n",
       "      <td>13</td>\n",
       "    </tr>\n",
       "    <tr>\n",
       "      <th>4</th>\n",
       "      <td>I00K1</td>\n",
       "      <td>5</td>\n",
       "      <td>42</td>\n",
       "      <td>72</td>\n",
       "      <td>69</td>\n",
       "    </tr>\n",
       "  </tbody>\n",
       "</table>\n",
       "</div>"
      ],
      "text/plain": [
       "      id  roll  math_scores  physics_scores  chemistry_scores\n",
       "0  5D510     1           49              61                27\n",
       "1  FHN1M     2            5              18                 3\n",
       "2  2OSBH     3           64              53                33\n",
       "3  QWQ6Y     4            6               8                13\n",
       "4  I00K1     5           42              72                69"
      ]
     },
     "execution_count": 27,
     "metadata": {},
     "output_type": "execute_result"
    }
   ],
   "source": [
    "df.head()"
   ]
  },
  {
   "cell_type": "code",
   "execution_count": 52,
   "id": "df3eca00",
   "metadata": {},
   "outputs": [
    {
     "name": "stdout",
     "output_type": "stream",
     "text": [
      "       roll  math_scores  physics_scores  chemistry_scores\n",
      "id                                                        \n",
      "5D510     1           49              61                27\n",
      "FHN1M     2            5              18                 3\n",
      "2OSBH     3           64              53                33\n",
      "QWQ6Y     4            6               8                13\n",
      "I00K1     5           42              72                69\n",
      "4B69A     6           78              70                32\n",
      "UUWBM     7           97              81                 1\n",
      "1TBK7     8           75              53                70\n",
      "Q1ZW1     9           35               7                78\n",
      "8T4K5    10           46              92                14\n",
      "VIZIU    11           75              90                39\n",
      "REB40    12           74              60                40\n",
      "CGONW    13           38               7                51\n",
      "0QSHX    14           88              48                95\n",
      "OQPBD    15           51              11                75\n",
      "W5PV5    16           92              94                18\n",
      "RZL91    17           91              91                63\n",
      "DMMP8    18           28              18                29\n",
      "TI84S    19           60               7                73\n",
      "DJW62    20           68              96                46\n",
      "UCAQ7    21            4              52                30\n",
      "LMPYG    22           18              39                39\n",
      "M20Q9    23           65              17                42\n",
      "J720P    24           65              59                68\n",
      "ABYLR    25           50              23                99\n",
      "BHJ7P    26           77              99                30\n",
      "USK12    27           98               0                13\n",
      "119U3    28           79              85                68\n",
      "0JZN1    29           64              18                 6\n",
      "X9BI8    30           65              93                57\n"
     ]
    }
   ],
   "source": [
    "print(df.loc['5D510':,:])\n",
    "#give me first rows for all the columns #index problems"
   ]
  },
  {
   "cell_type": "code",
   "execution_count": 61,
   "id": "dab7a16e",
   "metadata": {},
   "outputs": [
    {
     "data": {
      "text/html": [
       "<div>\n",
       "<style scoped>\n",
       "    .dataframe tbody tr th:only-of-type {\n",
       "        vertical-align: middle;\n",
       "    }\n",
       "\n",
       "    .dataframe tbody tr th {\n",
       "        vertical-align: top;\n",
       "    }\n",
       "\n",
       "    .dataframe thead th {\n",
       "        text-align: right;\n",
       "    }\n",
       "</style>\n",
       "<table border=\"1\" class=\"dataframe\">\n",
       "  <thead>\n",
       "    <tr style=\"text-align: right;\">\n",
       "      <th></th>\n",
       "      <th>physics_scores</th>\n",
       "      <th>chemistry_scores</th>\n",
       "    </tr>\n",
       "    <tr>\n",
       "      <th>id</th>\n",
       "      <th></th>\n",
       "      <th></th>\n",
       "    </tr>\n",
       "  </thead>\n",
       "  <tbody>\n",
       "    <tr>\n",
       "      <th>5D510</th>\n",
       "      <td>61</td>\n",
       "      <td>27</td>\n",
       "    </tr>\n",
       "    <tr>\n",
       "      <th>FHN1M</th>\n",
       "      <td>18</td>\n",
       "      <td>3</td>\n",
       "    </tr>\n",
       "    <tr>\n",
       "      <th>2OSBH</th>\n",
       "      <td>53</td>\n",
       "      <td>33</td>\n",
       "    </tr>\n",
       "    <tr>\n",
       "      <th>QWQ6Y</th>\n",
       "      <td>8</td>\n",
       "      <td>13</td>\n",
       "    </tr>\n",
       "    <tr>\n",
       "      <th>I00K1</th>\n",
       "      <td>72</td>\n",
       "      <td>69</td>\n",
       "    </tr>\n",
       "    <tr>\n",
       "      <th>4B69A</th>\n",
       "      <td>70</td>\n",
       "      <td>32</td>\n",
       "    </tr>\n",
       "  </tbody>\n",
       "</table>\n",
       "</div>"
      ],
      "text/plain": [
       "       physics_scores  chemistry_scores\n",
       "id                                     \n",
       "5D510              61                27\n",
       "FHN1M              18                 3\n",
       "2OSBH              53                33\n",
       "QWQ6Y               8                13\n",
       "I00K1              72                69\n",
       "4B69A              70                32"
      ]
     },
     "execution_count": 61,
     "metadata": {},
     "output_type": "execute_result"
    }
   ],
   "source": [
    "df.loc[:'4B69A','physics_scores':]\n",
    "#Give me rows until 4b69a and columns after physics_score#unlike indices labels are inclusive\n"
   ]
  },
  {
   "cell_type": "code",
   "execution_count": null,
   "id": "a936cd88",
   "metadata": {},
   "outputs": [],
   "source": []
  }
 ],
 "metadata": {
  "kernelspec": {
   "display_name": "Python 3",
   "language": "python",
   "name": "python3"
  },
  "language_info": {
   "codemirror_mode": {
    "name": "ipython",
    "version": 3
   },
   "file_extension": ".py",
   "mimetype": "text/x-python",
   "name": "python",
   "nbconvert_exporter": "python",
   "pygments_lexer": "ipython3",
   "version": "3.8.8"
  }
 },
 "nbformat": 4,
 "nbformat_minor": 5
}
